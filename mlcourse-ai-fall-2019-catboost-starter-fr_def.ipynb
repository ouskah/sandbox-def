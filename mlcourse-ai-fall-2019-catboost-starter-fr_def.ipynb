{
  "cells": [
    {
      "metadata": {},
      "cell_type": "markdown",
      "source": "<center>\n<img src=\"https://habrastorage.org/files/fd4/502/43d/fd450243dd604b81b9713213a247aa20.jpg\" />\n</center> \n     \n## <center>  [mlcourse.ai](https://mlcourse.ai) – Open Machine Learning Course \n\nAuteur: [Yury Kashnitsky](https://yorko.github.io) (@yorko). Edité et traduit par [Ousmane Cissé](https://github.com/oussou-dev). This material is subject to the terms and conditions of the [Creative Commons CC BY-NC-SA 4.0](https://creativecommons.org/licenses/by-nc-sa/4.0/) license. Free use is permitted for any non-commercial purpose. "
    },
    {
      "metadata": {},
      "cell_type": "markdown",
      "source": "# <center>Mission #2. Automne 2019\n## <center> Partie 2. Gradient boosting"
    },
    {
      "metadata": {
        "lang": "fr"
      },
      "cell_type": "markdown",
      "source": "**Dans cette mission, vous êtes invité à faire mieux que la \"baseline\" (référence de base) dans la compétition [\"Flight delays](https://www.kaggle.com/c/flight-delays-fall-2018).**\n\nCette fois-ci, nous avons décidé de partager un scénario de base CatBoost plutôt correct. Vous devrez améliorer la solution fournie.\n\nAvant de vous lancer sur la mission, nous vous conseillons de consulter le matériel de cours correspondant:\n 1. [Classification, arbres-de-décision et k-plus-proches-voisins](https://nbviewer.jupyter.org/github/Yorko/mlcourse_open/blob/master/jupyter_english/topic03_decision_trees_kNN/topic3_decision_trees_kNN.ipynb?flush_cache=true), version interactive sur [Kaggle](https://www.kaggle.com/kashnitsky/topic-3-decision-trees-and-knn)\n 2. Ensembles:\n  - [Bagging](https://nbviewer.jupyter.org/github/Yorko/mlcourse_open/blob/master/jupyter_english/topic05_ensembles_random_forests/topic5_part1_bagging.ipynb?flush_cache=true), version interactive sur [Kaggle](https://www.kaggle.com/kashnitsky/topic-5-ensembles-part-1-bagging)\n  - [Forêt aléatoire](https://nbviewer.jupyter.org/github/Yorko/mlcourse_open/blob/master/jupyter_english/topic05_ensembles_random_forests/topic5_part2_random_forest.ipynb?flush_cache=true), version intercative sur [Kaggle](https://www.kaggle.com/kashnitsky/topic-5-ensembles-part-2-random-forest)\n  - [Feature Importance](https://nbviewer.jupyter.org/github/Yorko/mlcourse_open/blob/master/jupyter_english/topic05_ensembles_random_forests/topic5_part3_feature_importance.ipynb?flush_cache=true), version interactive sur [Kaggle](https://www.kaggle.com/kashnitsky/topic-5- ensembles-part-3-feature-importance)\n 3. [Gradient boosting](https://nbviewer.jupyter.org/github/Yorko/mlcourse_open/blob/master/jupyter_english/topic10_boosting/topic10_gradient_boosting.ipynb?flush_cache=true), version interactive sur [Kaggle](https://www.kaggle.com/kashnitsky/topic-10-gradient-boosting)\n  - Régression logistique, forêt aléatoire et LightGBM dans le cadre de la compétition \"Kaggle Forest Cover Type Prediction\": [Kernel](https://www.kaggle.com/kashnitsky/topic-10-practice-with-logit-rf-and-lightgbm) \n 4. Vous pouvez également vous exercer avec des missions de démonstration, plus simples et déjà partagées avec des solutions:\n  - \"Decision trees with a toy task and the UCI Adult dataset\": [mission](https://www.kaggle.com/kashnitsky/a3-demo-decision-trees) + [solution](https://www.kaggle.com/kashnitsky/a3-demo-decision-trees-solution)\n  - \"Logistic Regression and Random Forest in the credit scoring problem\": [mission](https://www.kaggle.com/kashnitsky/assignment-5-logit-and-rf-for-credit-scoring) + [solution](https://www.kaggle.com/kashnitsky/a5-demo-logit-and-rf-for-credit-scoring-sol)\n 5. Il y a également 7 conférences vidéo sur les arbres, les forêts, la stimulation et leurs applications [mlcourse.ai/lectures](https://mlcourse.ai/lectures) \n 6. Tutoriels mlcourse.ai sur [categorical feature encoding](https://www.kaggle.com/waydeherman/tutorial-categorical-encoding) (par Wayde Herman) et [CatBoost](https://www.kaggle.com/mitribunskiy/tutorial-catboost-overview) (par Mikhail Tribunskiy)\n 7. Dernier point important : [Kernels publics](https://www.kaggle.com/c/flight-delays-fall-2018/notebooks) liés à cette compétition"
    },
    {
      "metadata": {},
      "cell_type": "markdown",
      "source": "### Votre mission consiste à  :\n 1. battre **A2 de référence(10 crédits)** sur Public LB (**0.75914** score LB)\n 2. renommer votre [équipe](https://www.kaggle.com/c/flight-delays-fall-2018/team) en totale conformité avec A1 et le [classement du cours](https://docs.google.com/spreadsheets/d/15e1K0tg5ponA5R6YQkZfihrShTDLAKf5qeKaoVCiuhQ/) (à paraître le 16.09.2019)\n \nCette tâche est censée être relativement facile. Ici, vous n'êtes pas obligé de télécharger votre solution reproductible.\n \n### <center> Date limite pour A2 : le 6 octobre 2019 à 20h59 (heure de Londres)"
    },
    {
      "metadata": {
        "ExecuteTime": {
          "start_time": "2019-10-05T05:49:15.610402Z",
          "end_time": "2019-10-05T05:51:37.023971Z"
        },
        "trusted": true
      },
      "cell_type": "code",
      "source": "!pip install catboost",
      "execution_count": 12,
      "outputs": [
        {
          "output_type": "stream",
          "text": "Collecting catboost\n\u001b[?25l  Downloading https://files.pythonhosted.org/packages/f0/c8/f679352f1bc6bcefb627f73fd5f5986ecbb900a73aa6401d7fb23725bb8a/catboost-0.17.4-cp35-none-manylinux1_x86_64.whl (62.5MB)\n\u001b[K     |████████████████████████████████| 62.5MB 5.7kB/s eta 0:00:01    |▎                               | 583kB 1.0MB/s eta 0:01:00     |██████▍                         | 12.4MB 3.5MB/s eta 0:00:15     |███████████████████▉            | 38.8MB 185kB/s eta 0:02:08     |████████████████████████████▋   | 55.9MB 4.7MB/s eta 0:00:02\n\u001b[?25hRequirement already satisfied: plotly in /home/nbuser/anaconda3_420/lib/python3.5/site-packages (from catboost) (4.1.0)\nRequirement already satisfied: numpy>=1.16.0 in /home/nbuser/anaconda3_420/lib/python3.5/site-packages (from catboost) (1.17.0)\nRequirement already satisfied: graphviz in /home/nbuser/anaconda3_420/lib/python3.5/site-packages (from catboost) (0.11.1)\nRequirement already satisfied: matplotlib in /home/nbuser/anaconda3_420/lib/python3.5/site-packages (from catboost) (2.1.1)\nRequirement already satisfied: six in /home/nbuser/anaconda3_420/lib/python3.5/site-packages (from catboost) (1.11.0)\nCollecting pandas>=0.24.0 (from catboost)\n\u001b[?25l  Downloading https://files.pythonhosted.org/packages/d9/05/38875a81040e679c196a854865dbafe4dfe5f92e8365ddfff21f2817d89d/pandas-0.25.1-cp35-cp35m-manylinux1_x86_64.whl (10.3MB)\n\u001b[K     |████████████████████████████████| 10.3MB 68kB/s  eta 0:00:01\n\u001b[?25hRequirement already satisfied: scipy in /home/nbuser/anaconda3_420/lib/python3.5/site-packages (from catboost) (1.1.0)\nRequirement already satisfied: retrying>=1.3.3 in /home/nbuser/anaconda3_420/lib/python3.5/site-packages (from plotly->catboost) (1.3.3)\nRequirement already satisfied: python-dateutil>=2.0 in /home/nbuser/anaconda3_420/lib/python3.5/site-packages (from matplotlib->catboost) (2.8.0)\nRequirement already satisfied: pytz in /home/nbuser/anaconda3_420/lib/python3.5/site-packages (from matplotlib->catboost) (2016.6.1)\nRequirement already satisfied: cycler>=0.10 in /home/nbuser/anaconda3_420/lib/python3.5/site-packages (from matplotlib->catboost) (0.10.0)\nRequirement already satisfied: pyparsing!=2.0.4,!=2.1.2,!=2.1.6,>=2.0.1 in /home/nbuser/anaconda3_420/lib/python3.5/site-packages (from matplotlib->catboost) (2.1.4)\n\u001b[31mERROR: pandas 0.25.1 has requirement pytz>=2017.2, but you'll have pytz 2016.6.1 which is incompatible.\u001b[0m\nInstalling collected packages: pandas, catboost\n  Found existing installation: pandas 0.19.2\n    Uninstalling pandas-0.19.2:\n      Successfully uninstalled pandas-0.19.2\nSuccessfully installed catboost-0.17.4 pandas-0.25.1\n\u001b[33mWARNING: You are using pip version 19.2.2, however version 19.2.3 is available.\nYou should consider upgrading via the 'pip install --upgrade pip' command.\u001b[0m\n",
          "name": "stdout"
        }
      ]
    },
    {
      "metadata": {
        "trusted": true,
        "ExecuteTime": {
          "start_time": "2019-10-05T05:11:02.109408Z",
          "end_time": "2019-10-05T05:11:02.573298Z"
        }
      },
      "cell_type": "code",
      "source": "import warnings\nimport numpy as np\nimport pandas as pd\nfrom pathlib import Path\nfrom sklearn.model_selection import train_test_split\nfrom sklearn.metrics import roc_auc_score\nfrom catboost import CatBoostClassifier\n#!pip install catboost",
      "execution_count": 2,
      "outputs": [
        {
          "output_type": "error",
          "ename": "ImportError",
          "evalue": "No module named 'catboost'",
          "traceback": [
            "\u001b[0;31m---------------------------------------------------------------------------\u001b[0m",
            "\u001b[0;31mImportError\u001b[0m                               Traceback (most recent call last)",
            "\u001b[0;32m<ipython-input-2-6ded8fda8433>\u001b[0m in \u001b[0;36m<module>\u001b[0;34m()\u001b[0m\n\u001b[1;32m      5\u001b[0m \u001b[0;32mfrom\u001b[0m \u001b[0msklearn\u001b[0m\u001b[0;34m.\u001b[0m\u001b[0mmodel_selection\u001b[0m \u001b[0;32mimport\u001b[0m \u001b[0mtrain_test_split\u001b[0m\u001b[0;34m\u001b[0m\u001b[0m\n\u001b[1;32m      6\u001b[0m \u001b[0;32mfrom\u001b[0m \u001b[0msklearn\u001b[0m\u001b[0;34m.\u001b[0m\u001b[0mmetrics\u001b[0m \u001b[0;32mimport\u001b[0m \u001b[0mroc_auc_score\u001b[0m\u001b[0;34m\u001b[0m\u001b[0m\n\u001b[0;32m----> 7\u001b[0;31m \u001b[0;32mfrom\u001b[0m \u001b[0mcatboost\u001b[0m \u001b[0;32mimport\u001b[0m \u001b[0mCatBoostClassifier\u001b[0m\u001b[0;34m\u001b[0m\u001b[0m\n\u001b[0m\u001b[1;32m      8\u001b[0m \u001b[0;31m#!pip install catboost\u001b[0m\u001b[0;34m\u001b[0m\u001b[0;34m\u001b[0m\u001b[0m\n",
            "\u001b[0;31mImportError\u001b[0m: No module named 'catboost'"
          ]
        }
      ]
    },
    {
      "metadata": {
        "lang": "fr"
      },
      "cell_type": "markdown",
      "source": "**Lire les données**"
    },
    {
      "metadata": {
        "trusted": false
      },
      "cell_type": "code",
      "source": "#PATH_TO_DATA = Path('../input/flight-delays-fall-2018/')",
      "execution_count": 2,
      "outputs": []
    },
    {
      "metadata": {
        "trusted": true,
        "ExecuteTime": {
          "start_time": "2019-10-05T05:11:10.197192Z",
          "end_time": "2019-10-05T05:11:14.347338Z"
        }
      },
      "cell_type": "code",
      "source": "# train_df = pd.read_csv(PATH_TO_DATA/'flight_delays_train.csv')\nurl = 'https://raw.githubusercontent.com/oussou-dev/mlcourse.ai/master/data/flight_delays_train.csv'\ntrain_df = pd.read_csv(url)",
      "execution_count": 3,
      "outputs": []
    },
    {
      "metadata": {
        "trusted": true,
        "ExecuteTime": {
          "start_time": "2019-10-05T05:11:15.534504Z",
          "end_time": "2019-10-05T05:11:15.71772Z"
        }
      },
      "cell_type": "code",
      "source": "train_df.head()",
      "execution_count": 4,
      "outputs": [
        {
          "output_type": "execute_result",
          "execution_count": 4,
          "data": {
            "text/plain": "  Month DayofMonth DayOfWeek  DepTime UniqueCarrier Origin Dest  Distance  \\\n0   c-8       c-21       c-7     1934            AA    ATL  DFW       732   \n1   c-4       c-20       c-3     1548            US    PIT  MCO       834   \n2   c-9        c-2       c-5     1422            XE    RDU  CLE       416   \n3  c-11       c-25       c-6     1015            OO    DEN  MEM       872   \n4  c-10        c-7       c-6     1828            WN    MDW  OMA       423   \n\n  dep_delayed_15min  \n0                 N  \n1                 N  \n2                 N  \n3                 N  \n4                 Y  ",
            "text/html": "<div>\n<table border=\"1\" class=\"dataframe\">\n  <thead>\n    <tr style=\"text-align: right;\">\n      <th></th>\n      <th>Month</th>\n      <th>DayofMonth</th>\n      <th>DayOfWeek</th>\n      <th>DepTime</th>\n      <th>UniqueCarrier</th>\n      <th>Origin</th>\n      <th>Dest</th>\n      <th>Distance</th>\n      <th>dep_delayed_15min</th>\n    </tr>\n  </thead>\n  <tbody>\n    <tr>\n      <th>0</th>\n      <td>c-8</td>\n      <td>c-21</td>\n      <td>c-7</td>\n      <td>1934</td>\n      <td>AA</td>\n      <td>ATL</td>\n      <td>DFW</td>\n      <td>732</td>\n      <td>N</td>\n    </tr>\n    <tr>\n      <th>1</th>\n      <td>c-4</td>\n      <td>c-20</td>\n      <td>c-3</td>\n      <td>1548</td>\n      <td>US</td>\n      <td>PIT</td>\n      <td>MCO</td>\n      <td>834</td>\n      <td>N</td>\n    </tr>\n    <tr>\n      <th>2</th>\n      <td>c-9</td>\n      <td>c-2</td>\n      <td>c-5</td>\n      <td>1422</td>\n      <td>XE</td>\n      <td>RDU</td>\n      <td>CLE</td>\n      <td>416</td>\n      <td>N</td>\n    </tr>\n    <tr>\n      <th>3</th>\n      <td>c-11</td>\n      <td>c-25</td>\n      <td>c-6</td>\n      <td>1015</td>\n      <td>OO</td>\n      <td>DEN</td>\n      <td>MEM</td>\n      <td>872</td>\n      <td>N</td>\n    </tr>\n    <tr>\n      <th>4</th>\n      <td>c-10</td>\n      <td>c-7</td>\n      <td>c-6</td>\n      <td>1828</td>\n      <td>WN</td>\n      <td>MDW</td>\n      <td>OMA</td>\n      <td>423</td>\n      <td>Y</td>\n    </tr>\n  </tbody>\n</table>\n</div>"
          },
          "metadata": {}
        }
      ]
    },
    {
      "metadata": {
        "trusted": true,
        "ExecuteTime": {
          "start_time": "2019-10-05T05:11:39.271261Z",
          "end_time": "2019-10-05T05:11:40.304358Z"
        }
      },
      "cell_type": "code",
      "source": "# test_df = pd.read_csv(PATH_TO_DATA/'flight_delays_test.csv')\n\nurl = 'https://raw.githubusercontent.com/oussou-dev/mlcourse.ai/master/data/flight_delays_test.csv'\ntest_df = pd.read_csv(url)",
      "execution_count": 6,
      "outputs": []
    },
    {
      "metadata": {
        "trusted": false
      },
      "cell_type": "code",
      "source": "test_df.head()",
      "execution_count": 6,
      "outputs": [
        {
          "data": {
            "text/html": "<div>\n<style scoped>\n    .dataframe tbody tr th:only-of-type {\n        vertical-align: middle;\n    }\n\n    .dataframe tbody tr th {\n        vertical-align: top;\n    }\n\n    .dataframe thead th {\n        text-align: right;\n    }\n</style>\n<table border=\"1\" class=\"dataframe\">\n  <thead>\n    <tr style=\"text-align: right;\">\n      <th></th>\n      <th>Month</th>\n      <th>DayofMonth</th>\n      <th>DayOfWeek</th>\n      <th>DepTime</th>\n      <th>UniqueCarrier</th>\n      <th>Origin</th>\n      <th>Dest</th>\n      <th>Distance</th>\n    </tr>\n  </thead>\n  <tbody>\n    <tr>\n      <th>0</th>\n      <td>c-7</td>\n      <td>c-25</td>\n      <td>c-3</td>\n      <td>615</td>\n      <td>YV</td>\n      <td>MRY</td>\n      <td>PHX</td>\n      <td>598</td>\n    </tr>\n    <tr>\n      <th>1</th>\n      <td>c-4</td>\n      <td>c-17</td>\n      <td>c-2</td>\n      <td>739</td>\n      <td>WN</td>\n      <td>LAS</td>\n      <td>HOU</td>\n      <td>1235</td>\n    </tr>\n    <tr>\n      <th>2</th>\n      <td>c-12</td>\n      <td>c-2</td>\n      <td>c-7</td>\n      <td>651</td>\n      <td>MQ</td>\n      <td>GSP</td>\n      <td>ORD</td>\n      <td>577</td>\n    </tr>\n    <tr>\n      <th>3</th>\n      <td>c-3</td>\n      <td>c-25</td>\n      <td>c-7</td>\n      <td>1614</td>\n      <td>WN</td>\n      <td>BWI</td>\n      <td>MHT</td>\n      <td>377</td>\n    </tr>\n    <tr>\n      <th>4</th>\n      <td>c-6</td>\n      <td>c-6</td>\n      <td>c-3</td>\n      <td>1505</td>\n      <td>UA</td>\n      <td>ORD</td>\n      <td>STL</td>\n      <td>258</td>\n    </tr>\n  </tbody>\n</table>\n</div>",
            "text/plain": "  Month DayofMonth DayOfWeek  DepTime UniqueCarrier Origin Dest  Distance\n0   c-7       c-25       c-3      615            YV    MRY  PHX       598\n1   c-4       c-17       c-2      739            WN    LAS  HOU      1235\n2  c-12        c-2       c-7      651            MQ    GSP  ORD       577\n3   c-3       c-25       c-7     1614            WN    BWI  MHT       377\n4   c-6        c-6       c-3     1505            UA    ORD  STL       258"
          },
          "execution_count": 6,
          "metadata": {},
          "output_type": "execute_result"
        }
      ]
    },
    {
      "metadata": {
        "lang": "fr"
      },
      "cell_type": "markdown",
      "source": "**Créer une seule caractéristique - \"flight\" (que vous devez améliorer - ajouter plus de caractéristiques)**"
    },
    {
      "metadata": {
        "trusted": true,
        "ExecuteTime": {
          "start_time": "2019-10-05T05:13:18.419257Z",
          "end_time": "2019-10-05T05:13:18.725825Z"
        }
      },
      "cell_type": "code",
      "source": "train_df['flight'] = train_df['Origin'] + '-->' + train_df['Dest']\ntest_df['flight'] = test_df['Origin'] + '-->' + test_df['Dest']",
      "execution_count": 10,
      "outputs": []
    },
    {
      "metadata": {
        "ExecuteTime": {
          "start_time": "2019-10-05T05:13:31.430245Z",
          "end_time": "2019-10-05T05:13:31.485053Z"
        },
        "trusted": true
      },
      "cell_type": "code",
      "source": "train_df.head()",
      "execution_count": 11,
      "outputs": [
        {
          "output_type": "execute_result",
          "execution_count": 11,
          "data": {
            "text/plain": "  Month DayofMonth DayOfWeek  DepTime UniqueCarrier Origin Dest  Distance  \\\n0   c-8       c-21       c-7     1934            AA    ATL  DFW       732   \n1   c-4       c-20       c-3     1548            US    PIT  MCO       834   \n2   c-9        c-2       c-5     1422            XE    RDU  CLE       416   \n3  c-11       c-25       c-6     1015            OO    DEN  MEM       872   \n4  c-10        c-7       c-6     1828            WN    MDW  OMA       423   \n\n  dep_delayed_15min     flight  \n0                 N  ATL-->DFW  \n1                 N  PIT-->MCO  \n2                 N  RDU-->CLE  \n3                 N  DEN-->MEM  \n4                 Y  MDW-->OMA  ",
            "text/html": "<div>\n<table border=\"1\" class=\"dataframe\">\n  <thead>\n    <tr style=\"text-align: right;\">\n      <th></th>\n      <th>Month</th>\n      <th>DayofMonth</th>\n      <th>DayOfWeek</th>\n      <th>DepTime</th>\n      <th>UniqueCarrier</th>\n      <th>Origin</th>\n      <th>Dest</th>\n      <th>Distance</th>\n      <th>dep_delayed_15min</th>\n      <th>flight</th>\n    </tr>\n  </thead>\n  <tbody>\n    <tr>\n      <th>0</th>\n      <td>c-8</td>\n      <td>c-21</td>\n      <td>c-7</td>\n      <td>1934</td>\n      <td>AA</td>\n      <td>ATL</td>\n      <td>DFW</td>\n      <td>732</td>\n      <td>N</td>\n      <td>ATL--&gt;DFW</td>\n    </tr>\n    <tr>\n      <th>1</th>\n      <td>c-4</td>\n      <td>c-20</td>\n      <td>c-3</td>\n      <td>1548</td>\n      <td>US</td>\n      <td>PIT</td>\n      <td>MCO</td>\n      <td>834</td>\n      <td>N</td>\n      <td>PIT--&gt;MCO</td>\n    </tr>\n    <tr>\n      <th>2</th>\n      <td>c-9</td>\n      <td>c-2</td>\n      <td>c-5</td>\n      <td>1422</td>\n      <td>XE</td>\n      <td>RDU</td>\n      <td>CLE</td>\n      <td>416</td>\n      <td>N</td>\n      <td>RDU--&gt;CLE</td>\n    </tr>\n    <tr>\n      <th>3</th>\n      <td>c-11</td>\n      <td>c-25</td>\n      <td>c-6</td>\n      <td>1015</td>\n      <td>OO</td>\n      <td>DEN</td>\n      <td>MEM</td>\n      <td>872</td>\n      <td>N</td>\n      <td>DEN--&gt;MEM</td>\n    </tr>\n    <tr>\n      <th>4</th>\n      <td>c-10</td>\n      <td>c-7</td>\n      <td>c-6</td>\n      <td>1828</td>\n      <td>WN</td>\n      <td>MDW</td>\n      <td>OMA</td>\n      <td>423</td>\n      <td>Y</td>\n      <td>MDW--&gt;OMA</td>\n    </tr>\n  </tbody>\n</table>\n</div>"
          },
          "metadata": {}
        }
      ]
    },
    {
      "metadata": {
        "lang": "fr"
      },
      "cell_type": "markdown",
      "source": "**Se souvenir des index des caractéristiques catégorielles (à passer à CatBoost)**"
    },
    {
      "metadata": {
        "trusted": true,
        "ExecuteTime": {
          "start_time": "2019-10-05T04:42:36.850049Z",
          "end_time": "2019-10-05T04:42:36.918487Z"
        }
      },
      "cell_type": "code",
      "source": "categ_feat_idx = np.where(train_df.drop('dep_delayed_15min', axis=1).dtypes == 'object')[0]\ncateg_feat_idx",
      "execution_count": 24,
      "outputs": [
        {
          "output_type": "execute_result",
          "execution_count": 24,
          "data": {
            "text/plain": "array([0, 1, 2, 4, 5, 6, 8])"
          },
          "metadata": {}
        }
      ]
    },
    {
      "metadata": {
        "lang": "fr"
      },
      "cell_type": "markdown",
      "source": "**Allouer un jeu de données de test (par exemple, un jeu de validation) pour valider le modèle**"
    },
    {
      "metadata": {
        "trusted": true,
        "ExecuteTime": {
          "start_time": "2019-10-05T04:42:40.160909Z",
          "end_time": "2019-10-05T04:42:40.322654Z"
        }
      },
      "cell_type": "code",
      "source": "X_train = train_df.drop('dep_delayed_15min', axis=1).values\ny_train = train_df['dep_delayed_15min'].map({'Y': 1, 'N': 0}).values\nX_test = test_df.values",
      "execution_count": 25,
      "outputs": []
    },
    {
      "metadata": {
        "trusted": true,
        "ExecuteTime": {
          "start_time": "2019-10-05T04:42:43.524226Z",
          "end_time": "2019-10-05T04:42:43.644298Z"
        }
      },
      "cell_type": "code",
      "source": "X_train_part, X_valid, y_train_part, y_valid = train_test_split(X_train, y_train, \n                                                                test_size=0.3, \n                                                                random_state=17)",
      "execution_count": 26,
      "outputs": []
    },
    {
      "metadata": {
        "lang": "fr"
      },
      "cell_type": "markdown",
      "source": "**Entraîner Catboost avec les arguments par défaut, en ne passant que les index des caractéristiques catégorielles.**"
    },
    {
      "metadata": {
        "trusted": true,
        "ExecuteTime": {
          "start_time": "2019-10-05T04:42:48.217889Z",
          "end_time": "2019-10-05T04:42:48.260831Z"
        }
      },
      "cell_type": "code",
      "source": "ctb = CatBoostClassifier(random_seed=17, silent=True)",
      "execution_count": 27,
      "outputs": [
        {
          "output_type": "error",
          "ename": "NameError",
          "evalue": "name 'CatBoostClassifier' is not defined",
          "traceback": [
            "\u001b[0;31m---------------------------------------------------------------------------\u001b[0m",
            "\u001b[0;31mNameError\u001b[0m                                 Traceback (most recent call last)",
            "\u001b[0;32m<ipython-input-27-5a8f52144acd>\u001b[0m in \u001b[0;36m<module>\u001b[0;34m()\u001b[0m\n\u001b[0;32m----> 1\u001b[0;31m \u001b[0mctb\u001b[0m \u001b[0;34m=\u001b[0m \u001b[0mCatBoostClassifier\u001b[0m\u001b[0;34m(\u001b[0m\u001b[0mrandom_seed\u001b[0m\u001b[0;34m=\u001b[0m\u001b[0;36m17\u001b[0m\u001b[0;34m,\u001b[0m \u001b[0msilent\u001b[0m\u001b[0;34m=\u001b[0m\u001b[0;32mTrue\u001b[0m\u001b[0;34m)\u001b[0m\u001b[0;34m\u001b[0m\u001b[0m\n\u001b[0m",
            "\u001b[0;31mNameError\u001b[0m: name 'CatBoostClassifier' is not defined"
          ]
        }
      ]
    },
    {
      "metadata": {
        "trusted": false
      },
      "cell_type": "code",
      "source": "%%time\nctb.fit(X_train_part, y_train_part,\n        cat_features=categ_feat_idx);",
      "execution_count": 12,
      "outputs": [
        {
          "name": "stdout",
          "output_type": "stream",
          "text": "CPU times: user 5min 49s, sys: 42.3 s, total: 6min 32s\nWall time: 1min 44s\n"
        },
        {
          "data": {
            "text/plain": "<catboost.core.CatBoostClassifier at 0x7f6d0f690e10>"
          },
          "execution_count": 12,
          "metadata": {},
          "output_type": "execute_result"
        }
      ]
    },
    {
      "metadata": {
        "trusted": false
      },
      "cell_type": "code",
      "source": "ctb_valid_pred = ctb.predict_proba(X_valid)[:, 1]",
      "execution_count": 13,
      "outputs": []
    },
    {
      "metadata": {
        "lang": "fr"
      },
      "cell_type": "markdown",
      "source": "**Nous avons obtenu environ 0.756 ROC AUC sur les données de test (hold-out set).**"
    },
    {
      "metadata": {
        "trusted": false
      },
      "cell_type": "code",
      "source": "roc_auc_score(y_valid, ctb_valid_pred)",
      "execution_count": 14,
      "outputs": [
        {
          "data": {
            "text/plain": "0.7558567262528356"
          },
          "execution_count": 14,
          "metadata": {},
          "output_type": "execute_result"
        }
      ]
    },
    {
      "metadata": {
        "lang": "fr"
      },
      "cell_type": "markdown",
      "source": "**Entraîner l'ensemble des données d'entraînement, faites des prévisions sur l'ensemble des données de test. Nous obtenons ~ 0,734 lors de la compétition - Niveau de (baseline) référence \"Catboost starter\"**"
    },
    {
      "metadata": {
        "trusted": false
      },
      "cell_type": "code",
      "source": "%%time\nctb.fit(X_train, y_train,\n        cat_features=categ_feat_idx);",
      "execution_count": 15,
      "outputs": [
        {
          "name": "stdout",
          "output_type": "stream",
          "text": "CPU times: user 8min 3s, sys: 53.2 s, total: 8min 56s\nWall time: 2min 22s\n"
        },
        {
          "data": {
            "text/plain": "<catboost.core.CatBoostClassifier at 0x7f6d0f690e10>"
          },
          "execution_count": 15,
          "metadata": {},
          "output_type": "execute_result"
        }
      ]
    },
    {
      "metadata": {
        "trusted": false
      },
      "cell_type": "code",
      "source": "ctb_test_pred = ctb.predict_proba(X_test)[:, 1]",
      "execution_count": 16,
      "outputs": []
    },
    {
      "metadata": {
        "trusted": false
      },
      "cell_type": "code",
      "source": "with warnings.catch_warnings():\n    warnings.simplefilter(\"ignore\")\n    \n    sample_sub = pd.read_csv(PATH_TO_DATA / 'sample_submission.csv', \n                             index_col='id')\n    sample_sub['dep_delayed_15min'] = ctb_test_pred\n    sample_sub.to_csv('ctb_pred.csv')",
      "execution_count": 17,
      "outputs": []
    },
    {
      "metadata": {
        "trusted": false
      },
      "cell_type": "code",
      "source": "!head ctb_pred.csv",
      "execution_count": 18,
      "outputs": [
        {
          "name": "stdout",
          "output_type": "stream",
          "text": "id,dep_delayed_15min\r\n0,0.03535583816921028\r\n1,0.06161772607690032\r\n2,0.044752068363054114\r\n3,0.3298909878906396\r\n4,0.3091382818085681\r\n5,0.09379994946399604\r\n6,0.06754366886182442\r\n7,0.21169519883509133\r\n8,0.1313800051843654\r\n"
        }
      ]
    },
    {
      "metadata": {
        "lang": "fr"
      },
      "cell_type": "markdown",
      "source": "Maintenant c'est votre tour ! Lancez-vous et améliorez le modèle à battre **\"A2 base de référence (10 crédits)\"** - **0,75914** score LB. Il est crucial de proposer de bonnes caractéristiques.\n\nPour les discussions, reférez-vous en au fil **#a2_kaggle_fall2019** du canal **mlcourse_ai_news** [ODS Slack](http://opendatascience.slack.com). Serhii Romanenko (@serhii_romanenko) sera là pour vous aider.\n\nBienvenue sur Kaggle!\n\n<img src='https://habrastorage.org/webt/fs/42/ms/fs42ms0r7qsoj-da4x7yfntwrbq.jpeg' width=50%>\n*source [\"Nerd Laughing Loud\"](https://www.kaggle.com/general/76963).*"
    }
  ],
  "metadata": {
    "kernelspec": {
      "name": "python3",
      "display_name": "Python 3",
      "language": "python"
    },
    "hide_input": false,
    "nbTranslate": {
      "hotkey": "alt-t",
      "sourceLang": "en",
      "targetLang": "fr",
      "displayLangs": [
        "*"
      ],
      "langInMainMenu": true,
      "useGoogleTranslate": true
    },
    "toc": {
      "nav_menu": {},
      "number_sections": false,
      "sideBar": false,
      "skip_h1_title": false,
      "base_numbering": 1,
      "title_cell": "Table of Contents",
      "title_sidebar": "Contents",
      "toc_cell": false,
      "toc_position": {
        "height": "427px",
        "width": "257px",
        "left": "64px",
        "top": "180px"
      },
      "toc_section_display": true,
      "toc_window_display": false
    },
    "language_info": {
      "mimetype": "text/x-python",
      "nbconvert_exporter": "python",
      "name": "python",
      "file_extension": ".py",
      "version": "3.5.4",
      "pygments_lexer": "ipython3",
      "codemirror_mode": {
        "version": 3,
        "name": "ipython"
      }
    }
  },
  "nbformat": 4,
  "nbformat_minor": 1
}